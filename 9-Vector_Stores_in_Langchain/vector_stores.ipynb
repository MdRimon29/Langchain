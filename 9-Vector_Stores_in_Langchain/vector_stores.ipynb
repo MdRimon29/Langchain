{
 "cells": [
  {
   "cell_type": "code",
   "execution_count": 1,
   "id": "08ba5a25",
   "metadata": {},
   "outputs": [
    {
     "name": "stderr",
     "output_type": "stream",
     "text": [
      "c:\\Users\\SVA_Delta\\Documents\\GitHub\\Langchain\\myenv\\Lib\\site-packages\\tqdm\\auto.py:21: TqdmWarning: IProgress not found. Please update jupyter and ipywidgets. See https://ipywidgets.readthedocs.io/en/stable/user_install.html\n",
      "  from .autonotebook import tqdm as notebook_tqdm\n"
     ]
    }
   ],
   "source": [
    "from langchain_groq import ChatGroq\n",
    "from dotenv import load_dotenv\n",
    "\n",
    "load_dotenv()\n",
    "\n",
    "llm=ChatGroq(\n",
    "    model='openai/gpt-oss-120b'\n",
    ")"
   ]
  },
  {
   "cell_type": "code",
   "execution_count": 2,
   "id": "42fcaf85",
   "metadata": {},
   "outputs": [],
   "source": [
    "from langchain_community.vectorstores import FAISS\n",
    "from langchain_huggingface import HuggingFaceEmbeddings\n",
    "from langchain.schema import Document\n"
   ]
  },
  {
   "cell_type": "code",
   "execution_count": 3,
   "id": "d135ca21",
   "metadata": {},
   "outputs": [],
   "source": [
    "# Create LangChain documents for IPL players\n",
    "\n",
    "doc1 = Document(\n",
    "        page_content=\"Virat Kohli is one of the most successful and consistent batsmen in IPL history. Known for his aggressive batting style and fitness, he has led the Royal Challengers Bangalore in multiple seasons.\",\n",
    "        metadata={\"team\": \"Royal Challengers Bangalore\"}\n",
    "    )\n",
    "doc2 = Document(\n",
    "        page_content=\"Rohit Sharma is the most successful captain in IPL history, leading Mumbai Indians to five titles. He's known for his calm demeanor and ability to play big innings under pressure.\",\n",
    "        metadata={\"team\": \"Mumbai Indians\"}\n",
    "    )\n",
    "doc3 = Document(\n",
    "        page_content=\"MS Dhoni, famously known as Captain Cool, has led Chennai Super Kings to multiple IPL titles. His finishing skills, wicketkeeping, and leadership are legendary.\",\n",
    "        metadata={\"team\": \"Chennai Super Kings\"}\n",
    "    )\n",
    "doc4 = Document(\n",
    "        page_content=\"Jasprit Bumrah is considered one of the best fast bowlers in T20 cricket. Playing for Mumbai Indians, he is known for his yorkers and death-over expertise.\",\n",
    "        metadata={\"team\": \"Mumbai Indians\"}\n",
    "    )\n",
    "doc5 = Document(\n",
    "        page_content=\"Ravindra Jadeja is a dynamic all-rounder who contributes with both bat and ball. Representing Chennai Super Kings, his quick fielding and match-winning performances make him a key player.\",\n",
    "        metadata={\"team\": \"Chennai Super Kings\"}\n",
    "    )"
   ]
  },
  {
   "cell_type": "code",
   "execution_count": 4,
   "id": "1e1150f3",
   "metadata": {},
   "outputs": [],
   "source": [
    "docs = [doc1, doc2, doc3, doc4, doc5]"
   ]
  },
  {
   "cell_type": "code",
   "execution_count": 5,
   "id": "6a3359ec",
   "metadata": {},
   "outputs": [],
   "source": [
    "embedding_model = HuggingFaceEmbeddings(model_name=\"sentence-transformers/all-MiniLM-L6-v2\")"
   ]
  },
  {
   "cell_type": "code",
   "execution_count": 6,
   "id": "d5d14946",
   "metadata": {},
   "outputs": [],
   "source": [
    "vector_store=FAISS.from_documents(\n",
    "    documents=docs,\n",
    "    embedding=embedding_model\n",
    ")"
   ]
  },
  {
   "cell_type": "code",
   "execution_count": 7,
   "id": "10c1a2e6",
   "metadata": {},
   "outputs": [
    {
     "data": {
      "text/plain": [
       "['c892fd37-931c-43ea-8f8d-3ec1c9695296',\n",
       " '556f3784-cc3f-4f37-a169-e43e9d54fbd9',\n",
       " '3a97a86c-9580-4558-bd1e-b50343ce6926',\n",
       " '3658356a-5d17-4fc1-bc81-08b6f489c255',\n",
       " 'b77c1148-adff-4a03-9ccc-c77fc1d91422']"
      ]
     },
     "execution_count": 7,
     "metadata": {},
     "output_type": "execute_result"
    }
   ],
   "source": [
    "# add documents\n",
    "vector_store.add_documents(docs)"
   ]
  },
  {
   "cell_type": "code",
   "execution_count": 8,
   "id": "5d03bc55",
   "metadata": {},
   "outputs": [
    {
     "data": {
      "text/plain": [
       "{'dcfbc3ef-f551-4edf-a4f8-bef46d00d2cf': Document(id='dcfbc3ef-f551-4edf-a4f8-bef46d00d2cf', metadata={'team': 'Royal Challengers Bangalore'}, page_content='Virat Kohli is one of the most successful and consistent batsmen in IPL history. Known for his aggressive batting style and fitness, he has led the Royal Challengers Bangalore in multiple seasons.'),\n",
       " '049a6490-0035-46d7-8dbb-eb6300b0778f': Document(id='049a6490-0035-46d7-8dbb-eb6300b0778f', metadata={'team': 'Mumbai Indians'}, page_content=\"Rohit Sharma is the most successful captain in IPL history, leading Mumbai Indians to five titles. He's known for his calm demeanor and ability to play big innings under pressure.\"),\n",
       " '5f49e83b-7996-4260-a336-44a6e8bbda37': Document(id='5f49e83b-7996-4260-a336-44a6e8bbda37', metadata={'team': 'Chennai Super Kings'}, page_content='MS Dhoni, famously known as Captain Cool, has led Chennai Super Kings to multiple IPL titles. His finishing skills, wicketkeeping, and leadership are legendary.'),\n",
       " 'b1d9922d-7f9a-43e8-bca7-5e69a4bb25b6': Document(id='b1d9922d-7f9a-43e8-bca7-5e69a4bb25b6', metadata={'team': 'Mumbai Indians'}, page_content='Jasprit Bumrah is considered one of the best fast bowlers in T20 cricket. Playing for Mumbai Indians, he is known for his yorkers and death-over expertise.'),\n",
       " '9dd69727-7c59-4919-90ee-77e8fa277d64': Document(id='9dd69727-7c59-4919-90ee-77e8fa277d64', metadata={'team': 'Chennai Super Kings'}, page_content='Ravindra Jadeja is a dynamic all-rounder who contributes with both bat and ball. Representing Chennai Super Kings, his quick fielding and match-winning performances make him a key player.'),\n",
       " 'c892fd37-931c-43ea-8f8d-3ec1c9695296': Document(id='c892fd37-931c-43ea-8f8d-3ec1c9695296', metadata={'team': 'Royal Challengers Bangalore'}, page_content='Virat Kohli is one of the most successful and consistent batsmen in IPL history. Known for his aggressive batting style and fitness, he has led the Royal Challengers Bangalore in multiple seasons.'),\n",
       " '556f3784-cc3f-4f37-a169-e43e9d54fbd9': Document(id='556f3784-cc3f-4f37-a169-e43e9d54fbd9', metadata={'team': 'Mumbai Indians'}, page_content=\"Rohit Sharma is the most successful captain in IPL history, leading Mumbai Indians to five titles. He's known for his calm demeanor and ability to play big innings under pressure.\"),\n",
       " '3a97a86c-9580-4558-bd1e-b50343ce6926': Document(id='3a97a86c-9580-4558-bd1e-b50343ce6926', metadata={'team': 'Chennai Super Kings'}, page_content='MS Dhoni, famously known as Captain Cool, has led Chennai Super Kings to multiple IPL titles. His finishing skills, wicketkeeping, and leadership are legendary.'),\n",
       " '3658356a-5d17-4fc1-bc81-08b6f489c255': Document(id='3658356a-5d17-4fc1-bc81-08b6f489c255', metadata={'team': 'Mumbai Indians'}, page_content='Jasprit Bumrah is considered one of the best fast bowlers in T20 cricket. Playing for Mumbai Indians, he is known for his yorkers and death-over expertise.'),\n",
       " 'b77c1148-adff-4a03-9ccc-c77fc1d91422': Document(id='b77c1148-adff-4a03-9ccc-c77fc1d91422', metadata={'team': 'Chennai Super Kings'}, page_content='Ravindra Jadeja is a dynamic all-rounder who contributes with both bat and ball. Representing Chennai Super Kings, his quick fielding and match-winning performances make him a key player.')}"
      ]
     },
     "execution_count": 8,
     "metadata": {},
     "output_type": "execute_result"
    }
   ],
   "source": [
    "# view documents\n",
    "vector_store.docstore._dict"
   ]
  },
  {
   "cell_type": "code",
   "execution_count": 9,
   "id": "61ae51a7",
   "metadata": {},
   "outputs": [
    {
     "data": {
      "text/plain": [
       "[Document(id='b1d9922d-7f9a-43e8-bca7-5e69a4bb25b6', metadata={'team': 'Mumbai Indians'}, page_content='Jasprit Bumrah is considered one of the best fast bowlers in T20 cricket. Playing for Mumbai Indians, he is known for his yorkers and death-over expertise.'),\n",
       " Document(id='3658356a-5d17-4fc1-bc81-08b6f489c255', metadata={'team': 'Mumbai Indians'}, page_content='Jasprit Bumrah is considered one of the best fast bowlers in T20 cricket. Playing for Mumbai Indians, he is known for his yorkers and death-over expertise.')]"
      ]
     },
     "execution_count": 9,
     "metadata": {},
     "output_type": "execute_result"
    }
   ],
   "source": [
    "# search documents\n",
    "vector_store.similarity_search(\n",
    "    query='Who among these are a bowler?',\n",
    "    k=2\n",
    ")"
   ]
  },
  {
   "cell_type": "code",
   "execution_count": 10,
   "id": "78cfbc25",
   "metadata": {},
   "outputs": [
    {
     "data": {
      "text/plain": [
       "[(Document(id='b1d9922d-7f9a-43e8-bca7-5e69a4bb25b6', metadata={'team': 'Mumbai Indians'}, page_content='Jasprit Bumrah is considered one of the best fast bowlers in T20 cricket. Playing for Mumbai Indians, he is known for his yorkers and death-over expertise.'),\n",
       "  0.96936005),\n",
       " (Document(id='3658356a-5d17-4fc1-bc81-08b6f489c255', metadata={'team': 'Mumbai Indians'}, page_content='Jasprit Bumrah is considered one of the best fast bowlers in T20 cricket. Playing for Mumbai Indians, he is known for his yorkers and death-over expertise.'),\n",
       "  0.96936005)]"
      ]
     },
     "execution_count": 10,
     "metadata": {},
     "output_type": "execute_result"
    }
   ],
   "source": [
    "# search with similarity score\n",
    "vector_store.similarity_search_with_score(\n",
    "    query='Who among these are a bowler?',\n",
    "    k=2\n",
    ")"
   ]
  },
  {
   "cell_type": "code",
   "execution_count": 11,
   "id": "d0c77351",
   "metadata": {},
   "outputs": [
    {
     "data": {
      "text/plain": [
       "[(Document(id='5f49e83b-7996-4260-a336-44a6e8bbda37', metadata={'team': 'Chennai Super Kings'}, page_content='MS Dhoni, famously known as Captain Cool, has led Chennai Super Kings to multiple IPL titles. His finishing skills, wicketkeeping, and leadership are legendary.'),\n",
       "  1.8436007),\n",
       " (Document(id='3a97a86c-9580-4558-bd1e-b50343ce6926', metadata={'team': 'Chennai Super Kings'}, page_content='MS Dhoni, famously known as Captain Cool, has led Chennai Super Kings to multiple IPL titles. His finishing skills, wicketkeeping, and leadership are legendary.'),\n",
       "  1.8436007),\n",
       " (Document(id='9dd69727-7c59-4919-90ee-77e8fa277d64', metadata={'team': 'Chennai Super Kings'}, page_content='Ravindra Jadeja is a dynamic all-rounder who contributes with both bat and ball. Representing Chennai Super Kings, his quick fielding and match-winning performances make him a key player.'),\n",
       "  1.8909373),\n",
       " (Document(id='b77c1148-adff-4a03-9ccc-c77fc1d91422', metadata={'team': 'Chennai Super Kings'}, page_content='Ravindra Jadeja is a dynamic all-rounder who contributes with both bat and ball. Representing Chennai Super Kings, his quick fielding and match-winning performances make him a key player.'),\n",
       "  1.8909373)]"
      ]
     },
     "execution_count": 11,
     "metadata": {},
     "output_type": "execute_result"
    }
   ],
   "source": [
    "# meta-data filtering\n",
    "vector_store.similarity_search_with_score(\n",
    "    query=\"\",\n",
    "    filter={\"team\": \"Chennai Super Kings\"}\n",
    ")"
   ]
  },
  {
   "cell_type": "code",
   "execution_count": 13,
   "id": "653d26db",
   "metadata": {},
   "outputs": [],
   "source": [
    "# Update document in FAISS (delete old, add new)\n",
    "doc_id_to_update = 'dcfbc3ef-f551-4edf-a4f8-bef46d00d2cf'\n",
    "\n",
    "updated_doc1 = Document(\n",
    "    page_content=\"Virat Kohli, the former captain of Royal Challengers Bangalore (RCB), is renowned for his aggressive leadership and consistent batting performances. He holds the record for the most runs in IPL history, including multiple centuries in a single season. Despite RCB not winning an IPL title under his captaincy, Kohli's passion and fitness set a benchmark for the league. His ability to chase targets and anchor innings has made him one of the most dependable players in T20 cricket.\",\n",
    "    metadata={\"team\": \"Royal Challengers Bangalore\"}\n",
    ")\n",
    "\n",
    "# Delete old document\n",
    "vector_store.delete([doc_id_to_update])\n",
    "\n",
    "# Add updated document\n",
    "vector_store.add_documents([updated_doc1])\n",
    "\n",
    "# Save changes\n",
    "vector_store.save_local(\"my_faiss_db\")"
   ]
  },
  {
   "cell_type": "code",
   "execution_count": 14,
   "id": "7de65541",
   "metadata": {},
   "outputs": [
    {
     "data": {
      "text/plain": [
       "{'049a6490-0035-46d7-8dbb-eb6300b0778f': Document(id='049a6490-0035-46d7-8dbb-eb6300b0778f', metadata={'team': 'Mumbai Indians'}, page_content=\"Rohit Sharma is the most successful captain in IPL history, leading Mumbai Indians to five titles. He's known for his calm demeanor and ability to play big innings under pressure.\"),\n",
       " '5f49e83b-7996-4260-a336-44a6e8bbda37': Document(id='5f49e83b-7996-4260-a336-44a6e8bbda37', metadata={'team': 'Chennai Super Kings'}, page_content='MS Dhoni, famously known as Captain Cool, has led Chennai Super Kings to multiple IPL titles. His finishing skills, wicketkeeping, and leadership are legendary.'),\n",
       " 'b1d9922d-7f9a-43e8-bca7-5e69a4bb25b6': Document(id='b1d9922d-7f9a-43e8-bca7-5e69a4bb25b6', metadata={'team': 'Mumbai Indians'}, page_content='Jasprit Bumrah is considered one of the best fast bowlers in T20 cricket. Playing for Mumbai Indians, he is known for his yorkers and death-over expertise.'),\n",
       " '9dd69727-7c59-4919-90ee-77e8fa277d64': Document(id='9dd69727-7c59-4919-90ee-77e8fa277d64', metadata={'team': 'Chennai Super Kings'}, page_content='Ravindra Jadeja is a dynamic all-rounder who contributes with both bat and ball. Representing Chennai Super Kings, his quick fielding and match-winning performances make him a key player.'),\n",
       " 'c892fd37-931c-43ea-8f8d-3ec1c9695296': Document(id='c892fd37-931c-43ea-8f8d-3ec1c9695296', metadata={'team': 'Royal Challengers Bangalore'}, page_content='Virat Kohli is one of the most successful and consistent batsmen in IPL history. Known for his aggressive batting style and fitness, he has led the Royal Challengers Bangalore in multiple seasons.'),\n",
       " '556f3784-cc3f-4f37-a169-e43e9d54fbd9': Document(id='556f3784-cc3f-4f37-a169-e43e9d54fbd9', metadata={'team': 'Mumbai Indians'}, page_content=\"Rohit Sharma is the most successful captain in IPL history, leading Mumbai Indians to five titles. He's known for his calm demeanor and ability to play big innings under pressure.\"),\n",
       " '3a97a86c-9580-4558-bd1e-b50343ce6926': Document(id='3a97a86c-9580-4558-bd1e-b50343ce6926', metadata={'team': 'Chennai Super Kings'}, page_content='MS Dhoni, famously known as Captain Cool, has led Chennai Super Kings to multiple IPL titles. His finishing skills, wicketkeeping, and leadership are legendary.'),\n",
       " '3658356a-5d17-4fc1-bc81-08b6f489c255': Document(id='3658356a-5d17-4fc1-bc81-08b6f489c255', metadata={'team': 'Mumbai Indians'}, page_content='Jasprit Bumrah is considered one of the best fast bowlers in T20 cricket. Playing for Mumbai Indians, he is known for his yorkers and death-over expertise.'),\n",
       " 'b77c1148-adff-4a03-9ccc-c77fc1d91422': Document(id='b77c1148-adff-4a03-9ccc-c77fc1d91422', metadata={'team': 'Chennai Super Kings'}, page_content='Ravindra Jadeja is a dynamic all-rounder who contributes with both bat and ball. Representing Chennai Super Kings, his quick fielding and match-winning performances make him a key player.'),\n",
       " '1cc97d64-5c8f-4814-b0fe-a63988250095': Document(id='1cc97d64-5c8f-4814-b0fe-a63988250095', metadata={'team': 'Royal Challengers Bangalore'}, page_content=\"Virat Kohli, the former captain of Royal Challengers Bangalore (RCB), is renowned for his aggressive leadership and consistent batting performances. He holds the record for the most runs in IPL history, including multiple centuries in a single season. Despite RCB not winning an IPL title under his captaincy, Kohli's passion and fitness set a benchmark for the league. His ability to chase targets and anchor innings has made him one of the most dependable players in T20 cricket.\")}"
      ]
     },
     "execution_count": 14,
     "metadata": {},
     "output_type": "execute_result"
    }
   ],
   "source": [
    "# view documents\n",
    "vector_store.docstore._dict"
   ]
  },
  {
   "cell_type": "code",
   "execution_count": 15,
   "id": "6536d52a",
   "metadata": {},
   "outputs": [
    {
     "data": {
      "text/plain": [
       "True"
      ]
     },
     "execution_count": 15,
     "metadata": {},
     "output_type": "execute_result"
    }
   ],
   "source": [
    "# delete document\n",
    "vector_store.delete(ids=['1cc97d64-5c8f-4814-b0fe-a63988250095'])"
   ]
  },
  {
   "cell_type": "code",
   "execution_count": 17,
   "id": "f61895aa",
   "metadata": {},
   "outputs": [
    {
     "data": {
      "text/plain": [
       "{'049a6490-0035-46d7-8dbb-eb6300b0778f': Document(id='049a6490-0035-46d7-8dbb-eb6300b0778f', metadata={'team': 'Mumbai Indians'}, page_content=\"Rohit Sharma is the most successful captain in IPL history, leading Mumbai Indians to five titles. He's known for his calm demeanor and ability to play big innings under pressure.\"),\n",
       " '5f49e83b-7996-4260-a336-44a6e8bbda37': Document(id='5f49e83b-7996-4260-a336-44a6e8bbda37', metadata={'team': 'Chennai Super Kings'}, page_content='MS Dhoni, famously known as Captain Cool, has led Chennai Super Kings to multiple IPL titles. His finishing skills, wicketkeeping, and leadership are legendary.'),\n",
       " 'b1d9922d-7f9a-43e8-bca7-5e69a4bb25b6': Document(id='b1d9922d-7f9a-43e8-bca7-5e69a4bb25b6', metadata={'team': 'Mumbai Indians'}, page_content='Jasprit Bumrah is considered one of the best fast bowlers in T20 cricket. Playing for Mumbai Indians, he is known for his yorkers and death-over expertise.'),\n",
       " '9dd69727-7c59-4919-90ee-77e8fa277d64': Document(id='9dd69727-7c59-4919-90ee-77e8fa277d64', metadata={'team': 'Chennai Super Kings'}, page_content='Ravindra Jadeja is a dynamic all-rounder who contributes with both bat and ball. Representing Chennai Super Kings, his quick fielding and match-winning performances make him a key player.'),\n",
       " 'c892fd37-931c-43ea-8f8d-3ec1c9695296': Document(id='c892fd37-931c-43ea-8f8d-3ec1c9695296', metadata={'team': 'Royal Challengers Bangalore'}, page_content='Virat Kohli is one of the most successful and consistent batsmen in IPL history. Known for his aggressive batting style and fitness, he has led the Royal Challengers Bangalore in multiple seasons.'),\n",
       " '556f3784-cc3f-4f37-a169-e43e9d54fbd9': Document(id='556f3784-cc3f-4f37-a169-e43e9d54fbd9', metadata={'team': 'Mumbai Indians'}, page_content=\"Rohit Sharma is the most successful captain in IPL history, leading Mumbai Indians to five titles. He's known for his calm demeanor and ability to play big innings under pressure.\"),\n",
       " '3a97a86c-9580-4558-bd1e-b50343ce6926': Document(id='3a97a86c-9580-4558-bd1e-b50343ce6926', metadata={'team': 'Chennai Super Kings'}, page_content='MS Dhoni, famously known as Captain Cool, has led Chennai Super Kings to multiple IPL titles. His finishing skills, wicketkeeping, and leadership are legendary.'),\n",
       " '3658356a-5d17-4fc1-bc81-08b6f489c255': Document(id='3658356a-5d17-4fc1-bc81-08b6f489c255', metadata={'team': 'Mumbai Indians'}, page_content='Jasprit Bumrah is considered one of the best fast bowlers in T20 cricket. Playing for Mumbai Indians, he is known for his yorkers and death-over expertise.'),\n",
       " 'b77c1148-adff-4a03-9ccc-c77fc1d91422': Document(id='b77c1148-adff-4a03-9ccc-c77fc1d91422', metadata={'team': 'Chennai Super Kings'}, page_content='Ravindra Jadeja is a dynamic all-rounder who contributes with both bat and ball. Representing Chennai Super Kings, his quick fielding and match-winning performances make him a key player.')}"
      ]
     },
     "execution_count": 17,
     "metadata": {},
     "output_type": "execute_result"
    }
   ],
   "source": [
    "# view documents\n",
    "vector_store.docstore._dict"
   ]
  }
 ],
 "metadata": {
  "kernelspec": {
   "display_name": "myenv (3.11.9)",
   "language": "python",
   "name": "python3"
  },
  "language_info": {
   "codemirror_mode": {
    "name": "ipython",
    "version": 3
   },
   "file_extension": ".py",
   "mimetype": "text/x-python",
   "name": "python",
   "nbconvert_exporter": "python",
   "pygments_lexer": "ipython3",
   "version": "3.11.9"
  }
 },
 "nbformat": 4,
 "nbformat_minor": 5
}
