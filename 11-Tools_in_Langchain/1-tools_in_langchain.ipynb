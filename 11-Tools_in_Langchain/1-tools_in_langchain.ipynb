{
 "cells": [
  {
   "cell_type": "markdown",
   "id": "e217df19",
   "metadata": {},
   "source": [
    "## Built in tools"
   ]
  },
  {
   "cell_type": "code",
   "execution_count": 4,
   "id": "6c8f6b93",
   "metadata": {},
   "outputs": [
    {
     "name": "stdout",
     "output_type": "stream",
     "text": [
      "These players , sometimes, provide more assists than goals. In this article, TOP SOCCER BLOG presents you with the top 10 football players with the most assists in history . However, it is important to note that there are a lot of different assists stats in football according to the record sources. Who has the most assists in soccer history? We look into the top 10 players with the most assists as well as dig into who holds most assists in the likes of the Premier League, World Cup and more. Discover the top 15 players with the most assists in football history — the greatest playmakers ever to grace the game. Discover the top 10 players with most assists in football history , from Ferenc Puskás's 404 assists to Lionel Messi's 377, plus key assist metrics and records. Lionel Messi and Cristiano Ronaldo both feature in a line-up determined by providing the most assists in football history by their position.\n"
     ]
    }
   ],
   "source": [
    "from langchain_community.tools import DuckDuckGoSearchRun\n",
    "\n",
    "search_tools=DuckDuckGoSearchRun()\n",
    "result= search_tools.invoke(\"Which football player hasmost assist in football history?\")\n",
    "\n",
    "print(result)"
   ]
  },
  {
   "cell_type": "code",
   "execution_count": null,
   "id": "69cd2985",
   "metadata": {},
   "outputs": [],
   "source": [
    "print(search_tools.name)\n",
    "print(search_tools.description)\n",
    "print(search_tools.args)"
   ]
  },
  {
   "cell_type": "markdown",
   "id": "ff1d14a4",
   "metadata": {},
   "source": [
    "## Custom tools"
   ]
  },
  {
   "cell_type": "markdown",
   "id": "1f01a0c6",
   "metadata": {},
   "source": [
    "### Method-1: Using @tool decorator"
   ]
  },
  {
   "cell_type": "markdown",
   "id": "07a8d1e4",
   "metadata": {},
   "source": [
    "**3 steps:  \n",
    "1-Create a function.  \n",
    "2-add type hints  \n",
    "3-use tool decorator**"
   ]
  },
  {
   "cell_type": "code",
   "execution_count": 5,
   "id": "18c7dccf",
   "metadata": {},
   "outputs": [],
   "source": [
    "from langchain_core.tools import tool\n",
    "\n",
    "@tool\n",
    "def addition(a: int, b:int) ->int:\n",
    "    \"\"\" Addition of two numbers\"\"\"\n",
    "    return a+b"
   ]
  },
  {
   "cell_type": "code",
   "execution_count": 7,
   "id": "a90e5a47",
   "metadata": {},
   "outputs": [
    {
     "name": "stdout",
     "output_type": "stream",
     "text": [
      "9\n"
     ]
    }
   ],
   "source": [
    "result= addition.invoke({'a':4,'b':5})\n",
    "print(result)"
   ]
  },
  {
   "cell_type": "code",
   "execution_count": 8,
   "id": "1492c722",
   "metadata": {},
   "outputs": [
    {
     "name": "stdout",
     "output_type": "stream",
     "text": [
      "addition\n",
      "Addition of two numbers\n",
      "{'a': {'title': 'A', 'type': 'integer'}, 'b': {'title': 'B', 'type': 'integer'}}\n"
     ]
    }
   ],
   "source": [
    "print(addition.name)\n",
    "print(addition.description)\n",
    "print(addition.args)"
   ]
  },
  {
   "cell_type": "code",
   "execution_count": 9,
   "id": "dbe60b6c",
   "metadata": {},
   "outputs": [
    {
     "name": "stdout",
     "output_type": "stream",
     "text": [
      "{'description': 'Addition of two numbers', 'properties': {'a': {'title': 'A', 'type': 'integer'}, 'b': {'title': 'B', 'type': 'integer'}}, 'required': ['a', 'b'], 'title': 'addition', 'type': 'object'}\n"
     ]
    }
   ],
   "source": [
    "print(addition.args_schema.model_json_schema())"
   ]
  },
  {
   "cell_type": "markdown",
   "id": "386cf8fb",
   "metadata": {},
   "source": [
    "### Method-2: Using StructuredTool and pydantic"
   ]
  },
  {
   "cell_type": "code",
   "execution_count": 10,
   "id": "2baabbf5",
   "metadata": {},
   "outputs": [],
   "source": [
    "from langchain_community.tools import StructuredTool\n",
    "from pydantic import BaseModel,Field"
   ]
  },
  {
   "cell_type": "code",
   "execution_count": 14,
   "id": "fbf378dd",
   "metadata": {},
   "outputs": [
    {
     "name": "stderr",
     "output_type": "stream",
     "text": [
      "/var/folders/5x/008fx0nj32z550bk82h8j4540000gn/T/ipykernel_2458/1605702323.py:2: PydanticDeprecatedSince20: Using extra keyword arguments on `Field` is deprecated and will be removed. Use `json_schema_extra` instead. (Extra keys: 'required'). Deprecated in Pydantic V2.0 to be removed in V3.0. See Pydantic V2 Migration Guide at https://errors.pydantic.dev/2.12/migration/\n",
      "  a: int=Field(required=True, description=\"First number to add\")\n",
      "/var/folders/5x/008fx0nj32z550bk82h8j4540000gn/T/ipykernel_2458/1605702323.py:3: PydanticDeprecatedSince20: Using extra keyword arguments on `Field` is deprecated and will be removed. Use `json_schema_extra` instead. (Extra keys: 'required'). Deprecated in Pydantic V2.0 to be removed in V3.0. See Pydantic V2 Migration Guide at https://errors.pydantic.dev/2.12/migration/\n",
      "  b: int =Field(required=True, description= \"second number to add\")\n"
     ]
    }
   ],
   "source": [
    "class AdditionInput(BaseModel):\n",
    "    a: int=Field(required=True, description=\"First number to add\")\n",
    "    b: int =Field(required=True, description= \"second number to add\")"
   ]
  },
  {
   "cell_type": "code",
   "execution_count": 18,
   "id": "303431a4",
   "metadata": {},
   "outputs": [],
   "source": [
    "def addition_function(a: int, b: int) ->int:\n",
    "    return a+b"
   ]
  },
  {
   "cell_type": "code",
   "execution_count": 19,
   "id": "8afacc21",
   "metadata": {},
   "outputs": [],
   "source": [
    "addition_tool=StructuredTool.from_function(\n",
    "    func=addition_function,\n",
    "    name=\"addition\",\n",
    "    description=\"Addition two numbers\",\n",
    "    args_schema=AdditionInput\n",
    ")"
   ]
  },
  {
   "cell_type": "code",
   "execution_count": 20,
   "id": "36e9d594",
   "metadata": {},
   "outputs": [
    {
     "name": "stdout",
     "output_type": "stream",
     "text": [
      "6\n",
      "addition\n",
      "Addition two numbers\n",
      "{'a': {'description': 'First number to add', 'required': True, 'title': 'A', 'type': 'integer'}, 'b': {'description': 'second number to add', 'required': True, 'title': 'B', 'type': 'integer'}}\n"
     ]
    }
   ],
   "source": [
    "result = addition_tool.invoke({'a':3, 'b':3})\n",
    "\n",
    "print(result)\n",
    "print(addition_tool.name)\n",
    "print(addition_tool.description)\n",
    "print(addition_tool.args)"
   ]
  },
  {
   "cell_type": "markdown",
   "id": "b91f2661",
   "metadata": {},
   "source": [
    "### Using BaseTool class"
   ]
  },
  {
   "cell_type": "code",
   "execution_count": 22,
   "id": "2efc5289",
   "metadata": {},
   "outputs": [],
   "source": [
    "from langchain_community.tools import BaseTool\n",
    "from typing import Type"
   ]
  },
  {
   "cell_type": "code",
   "execution_count": 23,
   "id": "50250b4e",
   "metadata": {},
   "outputs": [
    {
     "name": "stderr",
     "output_type": "stream",
     "text": [
      "/var/folders/5x/008fx0nj32z550bk82h8j4540000gn/T/ipykernel_2458/908171234.py:4: PydanticDeprecatedSince20: Using extra keyword arguments on `Field` is deprecated and will be removed. Use `json_schema_extra` instead. (Extra keys: 'required'). Deprecated in Pydantic V2.0 to be removed in V3.0. See Pydantic V2 Migration Guide at https://errors.pydantic.dev/2.12/migration/\n",
      "  a: int = Field(required=True, description=\"The first number to add\")\n",
      "/var/folders/5x/008fx0nj32z550bk82h8j4540000gn/T/ipykernel_2458/908171234.py:5: PydanticDeprecatedSince20: Using extra keyword arguments on `Field` is deprecated and will be removed. Use `json_schema_extra` instead. (Extra keys: 'required'). Deprecated in Pydantic V2.0 to be removed in V3.0. See Pydantic V2 Migration Guide at https://errors.pydantic.dev/2.12/migration/\n",
      "  b: int = Field(required=True, description=\"The second number to add\")\n"
     ]
    }
   ],
   "source": [
    "# arg schema using pydantic\n",
    "\n",
    "class MultiplyInput(BaseModel):\n",
    "    a: int = Field(required=True, description=\"The first number to add\")\n",
    "    b: int = Field(required=True, description=\"The second number to add\")"
   ]
  },
  {
   "cell_type": "code",
   "execution_count": 24,
   "id": "4180f5e7",
   "metadata": {},
   "outputs": [],
   "source": [
    "class MultiplyTool(BaseTool):\n",
    "    name: str = \"multiply\"\n",
    "    description: str = \"Multiply two numbers\"\n",
    "\n",
    "    args_schema: Type[BaseModel] = MultiplyInput\n",
    "\n",
    "    def _run(self, a: int, b: int) -> int:\n",
    "        return a * b"
   ]
  },
  {
   "cell_type": "code",
   "execution_count": 25,
   "id": "4133d502",
   "metadata": {},
   "outputs": [],
   "source": [
    "multiply_tool = MultiplyTool()"
   ]
  },
  {
   "cell_type": "code",
   "execution_count": 26,
   "id": "2df4cf89",
   "metadata": {},
   "outputs": [
    {
     "name": "stdout",
     "output_type": "stream",
     "text": [
      "9\n",
      "multiply\n",
      "Multiply two numbers\n",
      "{'a': {'description': 'The first number to add', 'required': True, 'title': 'A', 'type': 'integer'}, 'b': {'description': 'The second number to add', 'required': True, 'title': 'B', 'type': 'integer'}}\n"
     ]
    }
   ],
   "source": [
    "result = multiply_tool.invoke({'a':3, 'b':3})\n",
    "\n",
    "print(result)\n",
    "print(multiply_tool.name)\n",
    "print(multiply_tool.description)\n",
    "\n",
    "print(multiply_tool.args)"
   ]
  },
  {
   "cell_type": "markdown",
   "id": "77191b14",
   "metadata": {},
   "source": [
    "## Toolkit"
   ]
  },
  {
   "cell_type": "code",
   "execution_count": 32,
   "id": "343e7369",
   "metadata": {},
   "outputs": [],
   "source": [
    "from langchain_core.tools import tool\n",
    "\n",
    "@tool\n",
    "def add(a: int, b:int) ->int:\n",
    "    \"\"\"For additon two numbers\"\"\"\n",
    "    return a+b\n",
    "\n",
    "@tool\n",
    "def multiply(a: int, b: int) ->int:\n",
    "    \"\"\"For multiply two numbers\"\"\"\n",
    "    return a*b"
   ]
  },
  {
   "cell_type": "code",
   "execution_count": 40,
   "id": "dbec4ed5",
   "metadata": {},
   "outputs": [],
   "source": [
    "class Toolkit:\n",
    "    def get_toolkit(self):\n",
    "        return(add,multiply)\n"
   ]
  },
  {
   "cell_type": "code",
   "execution_count": 41,
   "id": "b5bc99db",
   "metadata": {},
   "outputs": [
    {
     "name": "stdout",
     "output_type": "stream",
     "text": [
      "add => For additon two numbers\n",
      "multiply => For multiply two numbers\n"
     ]
    }
   ],
   "source": [
    "toolkit = Toolkit()\n",
    "tools = toolkit.get_toolkit()\n",
    "\n",
    "for tool in tools:\n",
    "    print(tool.name, \"=>\", tool.description)\n"
   ]
  }
 ],
 "metadata": {
  "kernelspec": {
   "display_name": ".venv",
   "language": "python",
   "name": "python3"
  },
  "language_info": {
   "codemirror_mode": {
    "name": "ipython",
    "version": 3
   },
   "file_extension": ".py",
   "mimetype": "text/x-python",
   "name": "python",
   "nbconvert_exporter": "python",
   "pygments_lexer": "ipython3",
   "version": "3.11.6"
  }
 },
 "nbformat": 4,
 "nbformat_minor": 5
}
