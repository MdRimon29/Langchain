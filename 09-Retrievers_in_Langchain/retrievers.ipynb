{
 "cells": [
  {
   "cell_type": "code",
   "execution_count": 3,
   "id": "721d102f",
   "metadata": {},
   "outputs": [
    {
     "name": "stderr",
     "output_type": "stream",
     "text": [
      "c:\\Users\\SVA_Delta\\Documents\\GitHub\\Langchain\\myenv\\Lib\\site-packages\\tqdm\\auto.py:21: TqdmWarning: IProgress not found. Please update jupyter and ipywidgets. See https://ipywidgets.readthedocs.io/en/stable/user_install.html\n",
      "  from .autonotebook import tqdm as notebook_tqdm\n"
     ]
    }
   ],
   "source": [
    "from langchain_groq import ChatGroq\n",
    "from dotenv import load_dotenv\n",
    "\n",
    "load_dotenv()\n",
    "\n",
    "llm = ChatGroq(\n",
    "    model=\"openai/gpt-oss-120b\"\n",
    ")"
   ]
  },
  {
   "cell_type": "markdown",
   "id": "489de2a4",
   "metadata": {},
   "source": [
    "## Wikipedia Retrievers ##"
   ]
  },
  {
   "cell_type": "code",
   "execution_count": 4,
   "id": "32c98b53",
   "metadata": {},
   "outputs": [],
   "source": [
    "from langchain_community.retrievers import WikipediaRetriever"
   ]
  },
  {
   "cell_type": "code",
   "execution_count": 5,
   "id": "6c81b1e4",
   "metadata": {},
   "outputs": [],
   "source": [
    "retriever = WikipediaRetriever(top_k_results=2, lang='en')"
   ]
  },
  {
   "cell_type": "code",
   "execution_count": 6,
   "id": "01da5d2a",
   "metadata": {},
   "outputs": [],
   "source": [
    "# Define your query\n",
    "query = \"the geopolitical history of India and pakistan from the perspective of a Bangladeshi\"\n",
    "\n",
    "# Get relevant Wikipedia documents\n",
    "docs = retriever.invoke(query)"
   ]
  },
  {
   "cell_type": "code",
   "execution_count": 7,
   "id": "5a03c25a",
   "metadata": {},
   "outputs": [
    {
     "data": {
      "text/plain": [
       "[Document(metadata={'title': 'Indo-Pakistani war of 1971', 'summary': \"The Indo-Pakistani war of 1971, also known as the third Indo-Pakistani war, was a military confrontation between India and Pakistan that occurred during the Bangladesh Liberation War in East Pakistan from 3 December 1971 until the Pakistani capitulation in Dhaka on 16 December 1971.  The war began with Pakistan's Operation Chengiz Khan, consisting of preemptive aerial strikes on eight Indian air stations. The strikes led to India declaring war on Pakistan, marking their entry into the war for East Pakistan's independence, on the side of Bengali nationalist forces. India's entry expanded the existing conflict with Indian and Pakistani forces engaging on both the eastern and western fronts. \\nThirteen days after the war started, India achieved a clear upper hand, and the Eastern Command of the Pakistan military signed the instrument of surrender on 16 December 1971 in Dhaka, marking the formation of East Pakistan as the new nation of Bangladesh. Approximately 93,000 Pakistani servicemen were taken prisoner by the Indian Army, which included 79,676 to 81,000 uniformed personnel of the Pakistan Armed Forces, including some Bengali soldiers who had remained loyal to Pakistan. The remaining 10,324 to 12,500 prisoners were civilians, either family members of the military personnel or collaborators (Razakars).\\nIt is estimated that members of the Pakistani military and supporting pro-Pakistani Islamist militias killed between 300,000 and 3,000,000 civilians in Bangladesh. As a result of the conflict, a further eight to ten million people fled the country to seek refuge in India.\\nDuring the war, members of the Pakistani military and supporting pro-Pakistani Islamist militias called the Razakars raped between 200,000 and 400,000 Bangladeshi women and girls in a systematic campaign of genocidal rape.\", 'source': 'https://en.wikipedia.org/wiki/Indo-Pakistani_war_of_1971'}, page_content=\"The Indo-Pakistani war of 1971, also known as the third Indo-Pakistani war, was a military confrontation between India and Pakistan that occurred during the Bangladesh Liberation War in East Pakistan from 3 December 1971 until the Pakistani capitulation in Dhaka on 16 December 1971.  The war began with Pakistan's Operation Chengiz Khan, consisting of preemptive aerial strikes on eight Indian air stations. The strikes led to India declaring war on Pakistan, marking their entry into the war for East Pakistan's independence, on the side of Bengali nationalist forces. India's entry expanded the existing conflict with Indian and Pakistani forces engaging on both the eastern and western fronts. \\nThirteen days after the war started, India achieved a clear upper hand, and the Eastern Command of the Pakistan military signed the instrument of surrender on 16 December 1971 in Dhaka, marking the formation of East Pakistan as the new nation of Bangladesh. Approximately 93,000 Pakistani servicemen were taken prisoner by the Indian Army, which included 79,676 to 81,000 uniformed personnel of the Pakistan Armed Forces, including some Bengali soldiers who had remained loyal to Pakistan. The remaining 10,324 to 12,500 prisoners were civilians, either family members of the military personnel or collaborators (Razakars).\\nIt is estimated that members of the Pakistani military and supporting pro-Pakistani Islamist militias killed between 300,000 and 3,000,000 civilians in Bangladesh. As a result of the conflict, a further eight to ten million people fled the country to seek refuge in India.\\nDuring the war, members of the Pakistani military and supporting pro-Pakistani Islamist militias called the Razakars raped between 200,000 and 400,000 Bangladeshi women and girls in a systematic campaign of genocidal rape.\\n\\n\\n== Background ==\\n\\nThe Indo-Pakistani conflict was sparked by the Bangladesh Liberation War, which was a result of the violation of the rights of East Pakistan by the Pakistan Army. The political tensions in East Pakistan had its origin in the creation of Pakistan as a result of the partition of India by the United Kingdom in 1947; the popular language movement in 1950; mass riots in East Bengal in 1964; and the mass protests in 1969. These led to the resignation of President Ayub Khan, who invited army chief General Yahya Khan to take over the central government. The geographical distance between the eastern and western wings of Pakistan was vast; East Pakistan lay over 1,600 kilometres (1,000 mi) away, which greatly hampered any attempt to integrate the Bengali and the Pakistani cultures.\\nTo overcome the Bengali domination and prevent formation of the central government in Islamabad, the controversial One Unit programme established the two wings of East and West Pakistan. West Pakistanis' opposition to these efforts made it difficult to effectively govern both wings. In 1969, President Yahya Khan announced the first general elections and disestablished the status of West Pakistan as a single province in 1970, in order to restore it to its original heterogeneous status comprising four provinces, as defined at the time of establishment of Pakistan in 1947. In addition, there were religious and racial tensions between Bengalis and the multi-ethnic West Pakistanis, as Bengalis looked different from the dominant West Pakistanis.\\nThe East Pakistan's Awami League leader Sheikh Mujibur Rahman stressed his political position by presenting his Six Points and endorsing the Bengalis' right to govern. The 1970 Pakistani general election, resulted in Awami League gaining 167 out of 169 seats for the East Pakistan Legislative Assembly, and a near-absolute majority in the 313-seat National Assembly, while the vote in West Pakistan was mostly won by the socialist Pakistan Peoples Party. The League's election success caused many West Pakistanis to fear that it would allow the Bengalis to draft the constitution based on the six-points and liberalism.\\nTo resol\"),\n",
       " Document(metadata={'title': 'Bangladesh Liberation War', 'summary': \"The Bangladesh Liberation War (Bengali: মুক্তিযুদ্ধ, pronounced [mukt̪iɟud̪d̪ʱo]), also known as the Bangladesh War of Independence, was an armed conflict sparked by the rise of the Bengali nationalist and self-determination movement in East Pakistan, which resulted in the independence of Bangladesh. The war began when the Pakistani military junta based in West Pakistan—under the orders of Yahya Khan—launched Operation Searchlight against East Pakistanis on the night of 25 March 1971, initiating the Bangladesh genocide.\\nIn response to the violence, members of the Mukti Bahini—a guerrilla resistance movement formed by Bengali military, paramilitary and civilians—launched a mass guerrilla war against the Pakistani military, liberating numerous towns and cities in the war's initial months. At first, the Pakistan Army regained momentum during the monsoon, but Bengali guerrillas counterattacked by carrying out widespread sabotage, including through Operation Jackpot against the Pakistan Navy, while the nascent Bangladesh Air Force flew sorties against Pakistani military bases. India joined the war on 3 December 1971 in support of the Mukti Bahini, after Pakistan launched preemptive air strikes on northern India. The subsequent Indo-Pakistani War involved fighting on two fronts; with air supremacy achieved in the eastern theater and the rapid advance of the Allied Forces of Mukti Bahini and the Indian military, Pakistan surrendered in Dhaka on 16 December 1971, in what remains to date the largest surrender of armed personnel since the Second World War.\\nRural and urban areas across East Pakistan saw extensive military operations and air strikes to suppress the tide of civil disobedience that formed after the 1970 election stalemate. The Pakistan Army, backed by Islamists, created radical religious militias—the Razakars, Al-Badr and Al-Shams—to assist it during raids on the local populace. Members of the Pakistani military and supporting militias engaged in mass murder, deportation and genocidal rape, pursuing a systematic campaign of annihilation against nationalist Bengali civilians, students, intelligentsia, religious minorities and armed personnel. The capital, Dhaka, was the scene of numerous massacres, including the Dhaka University massacre. Sectarian violence also broke out between Bengalis and Urdu-speaking Biharis. An estimated 10 million Bengali refugees fled to neighboring India, while 30 million were internally displaced.\\nThe war changed the geopolitical landscape of South Asia, with the emergence of Bangladesh as the world's seventh-most populous country. Due to complex regional alliances, the war was a major episode in Cold War tensions involving the United States, the Soviet Union and China. The majority of member states in the United Nations recognized Bangladesh as a sovereign nation in 1972.\", 'source': 'https://en.wikipedia.org/wiki/Bangladesh_Liberation_War'}, page_content=\"The Bangladesh Liberation War (Bengali: মুক্তিযুদ্ধ, pronounced [mukt̪iɟud̪d̪ʱo]), also known as the Bangladesh War of Independence, was an armed conflict sparked by the rise of the Bengali nationalist and self-determination movement in East Pakistan, which resulted in the independence of Bangladesh. The war began when the Pakistani military junta based in West Pakistan—under the orders of Yahya Khan—launched Operation Searchlight against East Pakistanis on the night of 25 March 1971, initiating the Bangladesh genocide.\\nIn response to the violence, members of the Mukti Bahini—a guerrilla resistance movement formed by Bengali military, paramilitary and civilians—launched a mass guerrilla war against the Pakistani military, liberating numerous towns and cities in the war's initial months. At first, the Pakistan Army regained momentum during the monsoon, but Bengali guerrillas counterattacked by carrying out widespread sabotage, including through Operation Jackpot against the Pakistan Navy, while the nascent Bangladesh Air Force flew sorties against Pakistani military bases. India joined the war on 3 December 1971 in support of the Mukti Bahini, after Pakistan launched preemptive air strikes on northern India. The subsequent Indo-Pakistani War involved fighting on two fronts; with air supremacy achieved in the eastern theater and the rapid advance of the Allied Forces of Mukti Bahini and the Indian military, Pakistan surrendered in Dhaka on 16 December 1971, in what remains to date the largest surrender of armed personnel since the Second World War.\\nRural and urban areas across East Pakistan saw extensive military operations and air strikes to suppress the tide of civil disobedience that formed after the 1970 election stalemate. The Pakistan Army, backed by Islamists, created radical religious militias—the Razakars, Al-Badr and Al-Shams—to assist it during raids on the local populace. Members of the Pakistani military and supporting militias engaged in mass murder, deportation and genocidal rape, pursuing a systematic campaign of annihilation against nationalist Bengali civilians, students, intelligentsia, religious minorities and armed personnel. The capital, Dhaka, was the scene of numerous massacres, including the Dhaka University massacre. Sectarian violence also broke out between Bengalis and Urdu-speaking Biharis. An estimated 10 million Bengali refugees fled to neighboring India, while 30 million were internally displaced.\\nThe war changed the geopolitical landscape of South Asia, with the emergence of Bangladesh as the world's seventh-most populous country. Due to complex regional alliances, the war was a major episode in Cold War tensions involving the United States, the Soviet Union and China. The majority of member states in the United Nations recognized Bangladesh as a sovereign nation in 1972.\\n\\n\\n== Background ==\\n\\nBefore the Partition of British India, the Lahore Resolution initially envisaged separate Muslim-majority states in British India's eastern and northwestern zones. A proposal for an independent United Bengal was mooted by Prime Minister Huseyn Shaheed Suhrawardy in 1946 but opposed by the colonial authorities. The East Pakistan Renaissance Society advocated the creation of a sovereign state in eastern British India.\\nPolitical negotiations led, in August 1947, to the official birth of two states, Pakistan and India, giving presumably permanent homes for Muslims and Hindus, respectively, after the British departed. The Dominion of Pakistan comprised two geographically and culturally separate areas to the east and the west, with India in between.\\nThe western zone was popularly (and, for a period, also officially) termed West Pakistan and the eastern zone (modern-day Bangladesh) was initially termed East Bengal and later East Pakistan. Although the two zones' population was close to equal, political power was concentrated in West Pakistan, and it was widely perceived that East Pakistan was being exploited economi\")]"
      ]
     },
     "execution_count": 7,
     "metadata": {},
     "output_type": "execute_result"
    }
   ],
   "source": [
    "docs"
   ]
  },
  {
   "cell_type": "code",
   "execution_count": 8,
   "id": "94316139",
   "metadata": {},
   "outputs": [
    {
     "name": "stdout",
     "output_type": "stream",
     "text": [
      "\n",
      "--- Result 1 ---\n",
      "Content:\n",
      "The Indo-Pakistani war of 1971, also known as the third Indo-Pakistani war, was a military confrontation between India and Pakistan that occurred during the Bangladesh Liberation War in East Pakistan from 3 December 1971 until the Pakistani capitulation in Dhaka on 16 December 1971.  The war began with Pakistan's Operation Chengiz Khan, consisting of preemptive aerial strikes on eight Indian air stations. The strikes led to India declaring war on Pakistan, marking their entry into the war for East Pakistan's independence, on the side of Bengali nationalist forces. India's entry expanded the existing conflict with Indian and Pakistani forces engaging on both the eastern and western fronts. \n",
      "Thirteen days after the war started, India achieved a clear upper hand, and the Eastern Command of the Pakistan military signed the instrument of surrender on 16 December 1971 in Dhaka, marking the formation of East Pakistan as the new nation of Bangladesh. Approximately 93,000 Pakistani servicemen were taken prisoner by the Indian Army, which included 79,676 to 81,000 uniformed personnel of the Pakistan Armed Forces, including some Bengali soldiers who had remained loyal to Pakistan. The remaining 10,324 to 12,500 prisoners were civilians, either family members of the military personnel or collaborators (Razakars).\n",
      "It is estimated that members of the Pakistani military and supporting pro-Pakistani Islamist militias killed between 300,000 and 3,000,000 civilians in Bangladesh. As a result of the conflict, a further eight to ten million people fled the country to seek refuge in India.\n",
      "During the war, members of the Pakistani military and supporting pro-Pakistani Islamist militias called the Razakars raped between 200,000 and 400,000 Bangladeshi women and girls in a systematic campaign of genocidal rape.\n",
      "\n",
      "\n",
      "== Background ==\n",
      "\n",
      "The Indo-Pakistani conflict was sparked by the Bangladesh Liberation War, which was a result of the violation of the rights of East Pakistan by the Pakistan Army. The political tensions in East Pakistan had its origin in the creation of Pakistan as a result of the partition of India by the United Kingdom in 1947; the popular language movement in 1950; mass riots in East Bengal in 1964; and the mass protests in 1969. These led to the resignation of President Ayub Khan, who invited army chief General Yahya Khan to take over the central government. The geographical distance between the eastern and western wings of Pakistan was vast; East Pakistan lay over 1,600 kilometres (1,000 mi) away, which greatly hampered any attempt to integrate the Bengali and the Pakistani cultures.\n",
      "To overcome the Bengali domination and prevent formation of the central government in Islamabad, the controversial One Unit programme established the two wings of East and West Pakistan. West Pakistanis' opposition to these efforts made it difficult to effectively govern both wings. In 1969, President Yahya Khan announced the first general elections and disestablished the status of West Pakistan as a single province in 1970, in order to restore it to its original heterogeneous status comprising four provinces, as defined at the time of establishment of Pakistan in 1947. In addition, there were religious and racial tensions between Bengalis and the multi-ethnic West Pakistanis, as Bengalis looked different from the dominant West Pakistanis.\n",
      "The East Pakistan's Awami League leader Sheikh Mujibur Rahman stressed his political position by presenting his Six Points and endorsing the Bengalis' right to govern. The 1970 Pakistani general election, resulted in Awami League gaining 167 out of 169 seats for the East Pakistan Legislative Assembly, and a near-absolute majority in the 313-seat National Assembly, while the vote in West Pakistan was mostly won by the socialist Pakistan Peoples Party. The League's election success caused many West Pakistanis to fear that it would allow the Bengalis to draft the constitution based on the six-points and liberalism.\n",
      "To resol...\n",
      "\n",
      "--- Result 2 ---\n",
      "Content:\n",
      "The Bangladesh Liberation War (Bengali: মুক্তিযুদ্ধ, pronounced [mukt̪iɟud̪d̪ʱo]), also known as the Bangladesh War of Independence, was an armed conflict sparked by the rise of the Bengali nationalist and self-determination movement in East Pakistan, which resulted in the independence of Bangladesh. The war began when the Pakistani military junta based in West Pakistan—under the orders of Yahya Khan—launched Operation Searchlight against East Pakistanis on the night of 25 March 1971, initiating the Bangladesh genocide.\n",
      "In response to the violence, members of the Mukti Bahini—a guerrilla resistance movement formed by Bengali military, paramilitary and civilians—launched a mass guerrilla war against the Pakistani military, liberating numerous towns and cities in the war's initial months. At first, the Pakistan Army regained momentum during the monsoon, but Bengali guerrillas counterattacked by carrying out widespread sabotage, including through Operation Jackpot against the Pakistan Navy, while the nascent Bangladesh Air Force flew sorties against Pakistani military bases. India joined the war on 3 December 1971 in support of the Mukti Bahini, after Pakistan launched preemptive air strikes on northern India. The subsequent Indo-Pakistani War involved fighting on two fronts; with air supremacy achieved in the eastern theater and the rapid advance of the Allied Forces of Mukti Bahini and the Indian military, Pakistan surrendered in Dhaka on 16 December 1971, in what remains to date the largest surrender of armed personnel since the Second World War.\n",
      "Rural and urban areas across East Pakistan saw extensive military operations and air strikes to suppress the tide of civil disobedience that formed after the 1970 election stalemate. The Pakistan Army, backed by Islamists, created radical religious militias—the Razakars, Al-Badr and Al-Shams—to assist it during raids on the local populace. Members of the Pakistani military and supporting militias engaged in mass murder, deportation and genocidal rape, pursuing a systematic campaign of annihilation against nationalist Bengali civilians, students, intelligentsia, religious minorities and armed personnel. The capital, Dhaka, was the scene of numerous massacres, including the Dhaka University massacre. Sectarian violence also broke out between Bengalis and Urdu-speaking Biharis. An estimated 10 million Bengali refugees fled to neighboring India, while 30 million were internally displaced.\n",
      "The war changed the geopolitical landscape of South Asia, with the emergence of Bangladesh as the world's seventh-most populous country. Due to complex regional alliances, the war was a major episode in Cold War tensions involving the United States, the Soviet Union and China. The majority of member states in the United Nations recognized Bangladesh as a sovereign nation in 1972.\n",
      "\n",
      "\n",
      "== Background ==\n",
      "\n",
      "Before the Partition of British India, the Lahore Resolution initially envisaged separate Muslim-majority states in British India's eastern and northwestern zones. A proposal for an independent United Bengal was mooted by Prime Minister Huseyn Shaheed Suhrawardy in 1946 but opposed by the colonial authorities. The East Pakistan Renaissance Society advocated the creation of a sovereign state in eastern British India.\n",
      "Political negotiations led, in August 1947, to the official birth of two states, Pakistan and India, giving presumably permanent homes for Muslims and Hindus, respectively, after the British departed. The Dominion of Pakistan comprised two geographically and culturally separate areas to the east and the west, with India in between.\n",
      "The western zone was popularly (and, for a period, also officially) termed West Pakistan and the eastern zone (modern-day Bangladesh) was initially termed East Bengal and later East Pakistan. Although the two zones' population was close to equal, political power was concentrated in West Pakistan, and it was widely perceived that East Pakistan was being exploited economi...\n"
     ]
    }
   ],
   "source": [
    "# Print retrieved content\n",
    "for i, doc in enumerate(docs):\n",
    "    print(f\"\\n--- Result {i+1} ---\")\n",
    "    print(f\"Content:\\n{doc.page_content}...\")  # truncate for display"
   ]
  },
  {
   "cell_type": "markdown",
   "id": "5f78c187",
   "metadata": {},
   "source": [
    "## Vector Store Retrievers"
   ]
  },
  {
   "cell_type": "code",
   "execution_count": 9,
   "id": "9067e002",
   "metadata": {},
   "outputs": [],
   "source": [
    "from langchain_community.vectorstores import FAISS\n",
    "from langchain_huggingface import HuggingFaceEmbeddings\n",
    "from langchain.schema import Document"
   ]
  },
  {
   "cell_type": "code",
   "execution_count": 10,
   "id": "7d35e43e",
   "metadata": {},
   "outputs": [],
   "source": [
    "# Step 1: Your source documents\n",
    "documents = [\n",
    "    Document(page_content=\"LangChain helps developers build LLM applications easily.\"),\n",
    "    Document(page_content=\"Chroma is a vector database optimized for LLM-based search.\"),\n",
    "    Document(page_content=\"Embeddings convert text into high-dimensional vectors.\"),\n",
    "    Document(page_content=\"OpenAI provides powerful embedding models.\"),\n",
    "]"
   ]
  },
  {
   "cell_type": "code",
   "execution_count": 11,
   "id": "80893a7d",
   "metadata": {},
   "outputs": [],
   "source": [
    "# Step 2: Initialize embedding model\n",
    "embedding_model = HuggingFaceEmbeddings(model_name=\"sentence-transformers/all-MiniLM-L6-v2\")\n",
    "\n",
    "# Step 3: Create Chroma vector store in memory\n",
    "vectorstore = FAISS.from_documents(\n",
    "    documents=documents,\n",
    "    embedding=embedding_model\n",
    ")"
   ]
  },
  {
   "cell_type": "code",
   "execution_count": 12,
   "id": "447b03e3",
   "metadata": {},
   "outputs": [],
   "source": [
    "# Step 4: Convert vectorstore into a retriever\n",
    "retriever = vectorstore.as_retriever(search_kwargs={\"k\": 2})"
   ]
  },
  {
   "cell_type": "code",
   "execution_count": 13,
   "id": "b7e33e85",
   "metadata": {},
   "outputs": [],
   "source": [
    "query = \"What is Chroma used for?\"\n",
    "results = retriever.invoke(query)"
   ]
  },
  {
   "cell_type": "code",
   "execution_count": 14,
   "id": "033258cc",
   "metadata": {},
   "outputs": [
    {
     "name": "stdout",
     "output_type": "stream",
     "text": [
      "\n",
      "--- Result 1 ---\n",
      "Chroma is a vector database optimized for LLM-based search.\n",
      "\n",
      "--- Result 2 ---\n",
      "LangChain helps developers build LLM applications easily.\n"
     ]
    }
   ],
   "source": [
    "for i, doc in enumerate(results):\n",
    "    print(f\"\\n--- Result {i+1} ---\")\n",
    "    print(doc.page_content)"
   ]
  },
  {
   "cell_type": "code",
   "execution_count": 15,
   "id": "d1e37faa",
   "metadata": {},
   "outputs": [
    {
     "name": "stdout",
     "output_type": "stream",
     "text": [
      "\n",
      "--- Result 1 ---\n",
      "Chroma is a vector database optimized for LLM-based search.\n",
      "\n",
      "--- Result 2 ---\n",
      "LangChain helps developers build LLM applications easily.\n"
     ]
    }
   ],
   "source": [
    "for i, doc in enumerate(results):\n",
    "    print(f\"\\n--- Result {i+1} ---\")\n",
    "    print(doc.page_content)"
   ]
  },
  {
   "cell_type": "markdown",
   "id": "2262caf2",
   "metadata": {},
   "source": [
    "## MMR(Maximal Marginal Relevance)"
   ]
  },
  {
   "cell_type": "code",
   "execution_count": 16,
   "id": "dc468062",
   "metadata": {},
   "outputs": [],
   "source": [
    "# Sample documents\n",
    "docs = [\n",
    "    Document(page_content=\"LangChain makes it easy to work with LLMs.\"),\n",
    "    Document(page_content=\"LangChain is used to build LLM based applications.\"),\n",
    "    Document(page_content=\"Chroma is used to store and search document embeddings.\"),\n",
    "    Document(page_content=\"Embeddings are vector representations of text.\"),\n",
    "    Document(page_content=\"MMR helps you get diverse results when doing similarity search.\"),\n",
    "    Document(page_content=\"LangChain supports Chroma, FAISS, Pinecone, and more.\"),\n",
    "]"
   ]
  },
  {
   "cell_type": "code",
   "execution_count": null,
   "id": "9b901319",
   "metadata": {},
   "outputs": [],
   "source": [
    "from langchain_community.vectorstores import FAISS\n",
    "\n",
    "# Initialize Hugging face embeddings\n",
    "embedding_model = HuggingFaceEmbeddings(model_name=\"sentence-transformers/all-MiniLM-L6-v2\")\n",
    "\n",
    "# Step 2: Create the FAISS vector store from documents\n",
    "vectorstore = FAISS.from_documents(\n",
    "    documents=docs,\n",
    "    embedding=embedding_model\n",
    ")"
   ]
  },
  {
   "cell_type": "code",
   "execution_count": 18,
   "id": "9e456857",
   "metadata": {},
   "outputs": [],
   "source": [
    "# Enable MMR in the retriever\n",
    "retriever = vectorstore.as_retriever(\n",
    "    search_type=\"mmr\",                   # <-- This enables MMR\n",
    "    search_kwargs={\"k\": 3, \"lambda_mult\": 0.5}  # k = top results, lambda_mult = relevance-diversity balance\n",
    ")"
   ]
  },
  {
   "cell_type": "code",
   "execution_count": 19,
   "id": "c279cb06",
   "metadata": {},
   "outputs": [],
   "source": [
    "query = \"What is langchain?\"\n",
    "results = retriever.invoke(query)"
   ]
  },
  {
   "cell_type": "code",
   "execution_count": 20,
   "id": "93960388",
   "metadata": {},
   "outputs": [
    {
     "name": "stdout",
     "output_type": "stream",
     "text": [
      "\n",
      "--- Result 1 ---\n",
      "LangChain supports Chroma, FAISS, Pinecone, and more.\n",
      "\n",
      "--- Result 2 ---\n",
      "LangChain is used to build LLM based applications.\n",
      "\n",
      "--- Result 3 ---\n",
      "Embeddings are vector representations of text.\n"
     ]
    }
   ],
   "source": [
    "for i, doc in enumerate(results):\n",
    "    print(f\"\\n--- Result {i+1} ---\")\n",
    "    print(doc.page_content)"
   ]
  },
  {
   "cell_type": "markdown",
   "id": "45dff03a",
   "metadata": {},
   "source": [
    "## Multiquery Retrievers"
   ]
  },
  {
   "cell_type": "code",
   "execution_count": 24,
   "id": "05e436be",
   "metadata": {},
   "outputs": [],
   "source": [
    "from langchain_community.vectorstores import FAISS\n",
    "from langchain_core.documents import Document\n",
    "from langchain_openai import ChatOpenAI\n",
    "from langchain.retrievers.multi_query import MultiQueryRetriever"
   ]
  },
  {
   "cell_type": "code",
   "execution_count": 25,
   "id": "ad08b8d2",
   "metadata": {},
   "outputs": [],
   "source": [
    "# Relevant health & wellness documents\n",
    "all_docs = [\n",
    "    Document(page_content=\"Regular walking boosts heart health and can reduce symptoms of depression.\", metadata={\"source\": \"H1\"}),\n",
    "    Document(page_content=\"Consuming leafy greens and fruits helps detox the body and improve longevity.\", metadata={\"source\": \"H2\"}),\n",
    "    Document(page_content=\"Deep sleep is crucial for cellular repair and emotional regulation.\", metadata={\"source\": \"H3\"}),\n",
    "    Document(page_content=\"Mindfulness and controlled breathing lower cortisol and improve mental clarity.\", metadata={\"source\": \"H4\"}),\n",
    "    Document(page_content=\"Drinking sufficient water throughout the day helps maintain metabolism and energy.\", metadata={\"source\": \"H5\"}),\n",
    "    Document(page_content=\"The solar energy system in modern homes helps balance electricity demand.\", metadata={\"source\": \"I1\"}),\n",
    "    Document(page_content=\"Python balances readability with power, making it a popular system design language.\", metadata={\"source\": \"I2\"}),\n",
    "    Document(page_content=\"Photosynthesis enables plants to produce energy by converting sunlight.\", metadata={\"source\": \"I3\"}),\n",
    "    Document(page_content=\"The 2022 FIFA World Cup was held in Qatar and drew global energy and excitement.\", metadata={\"source\": \"I4\"}),\n",
    "    Document(page_content=\"Black holes bend spacetime and store immense gravitational energy.\", metadata={\"source\": \"I5\"}),\n",
    "]"
   ]
  },
  {
   "cell_type": "code",
   "execution_count": 26,
   "id": "5471cfb3",
   "metadata": {},
   "outputs": [],
   "source": [
    "# Initialize hugging face embeddings\n",
    "embedding_model = HuggingFaceEmbeddings(model_name=\"sentence-transformers/all-MiniLM-L6-v2\")\n",
    "\n",
    "# Create FAISS vector store\n",
    "vectorstore = FAISS.from_documents(documents=all_docs, embedding=embedding_model)"
   ]
  },
  {
   "cell_type": "code",
   "execution_count": 27,
   "id": "5be99aab",
   "metadata": {},
   "outputs": [],
   "source": [
    "# Create retrievers\n",
    "similarity_retriever = vectorstore.as_retriever(search_type=\"similarity\", search_kwargs={\"k\": 5})"
   ]
  },
  {
   "cell_type": "code",
   "execution_count": 29,
   "id": "14684096",
   "metadata": {},
   "outputs": [],
   "source": [
    "multiquery_retriever = MultiQueryRetriever.from_llm(\n",
    "    retriever=vectorstore.as_retriever(search_kwargs={\"k\": 5}),\n",
    "    llm = ChatGroq(model=\"openai/gpt-oss-120b\")\n",
    ")"
   ]
  },
  {
   "cell_type": "code",
   "execution_count": 30,
   "id": "3cd2c00a",
   "metadata": {},
   "outputs": [],
   "source": [
    "# Query\n",
    "query = \"How to improve energy levels and maintain balance?\""
   ]
  },
  {
   "cell_type": "code",
   "execution_count": 31,
   "id": "989446db",
   "metadata": {},
   "outputs": [],
   "source": [
    "# Retrieve results\n",
    "similarity_results = similarity_retriever.invoke(query)\n",
    "multiquery_results= multiquery_retriever.invoke(query)"
   ]
  },
  {
   "cell_type": "code",
   "execution_count": 32,
   "id": "eb49218b",
   "metadata": {},
   "outputs": [
    {
     "name": "stdout",
     "output_type": "stream",
     "text": [
      "\n",
      "--- Result 1 ---\n",
      "Drinking sufficient water throughout the day helps maintain metabolism and energy.\n",
      "\n",
      "--- Result 2 ---\n",
      "The solar energy system in modern homes helps balance electricity demand.\n",
      "\n",
      "--- Result 3 ---\n",
      "Consuming leafy greens and fruits helps detox the body and improve longevity.\n",
      "\n",
      "--- Result 4 ---\n",
      "Mindfulness and controlled breathing lower cortisol and improve mental clarity.\n",
      "\n",
      "--- Result 5 ---\n",
      "Photosynthesis enables plants to produce energy by converting sunlight.\n",
      "******************************************************************************************************************************************************\n",
      "\n",
      "--- Result 1 ---\n",
      "Drinking sufficient water throughout the day helps maintain metabolism and energy.\n",
      "\n",
      "--- Result 2 ---\n",
      "The solar energy system in modern homes helps balance electricity demand.\n",
      "\n",
      "--- Result 3 ---\n",
      "Photosynthesis enables plants to produce energy by converting sunlight.\n",
      "\n",
      "--- Result 4 ---\n",
      "Consuming leafy greens and fruits helps detox the body and improve longevity.\n",
      "\n",
      "--- Result 5 ---\n",
      "Mindfulness and controlled breathing lower cortisol and improve mental clarity.\n",
      "\n",
      "--- Result 6 ---\n",
      "Regular walking boosts heart health and can reduce symptoms of depression.\n",
      "\n",
      "--- Result 7 ---\n",
      "Deep sleep is crucial for cellular repair and emotional regulation.\n"
     ]
    }
   ],
   "source": [
    "for i, doc in enumerate(similarity_results):\n",
    "    print(f\"\\n--- Result {i+1} ---\")\n",
    "    print(doc.page_content)\n",
    "\n",
    "print(\"*\"*150)\n",
    "\n",
    "for i, doc in enumerate(multiquery_results):\n",
    "    print(f\"\\n--- Result {i+1} ---\")\n",
    "    print(doc.page_content)"
   ]
  },
  {
   "cell_type": "markdown",
   "id": "a0ef529e",
   "metadata": {},
   "source": [
    "## ContextualCompressionRetriever"
   ]
  },
  {
   "cell_type": "code",
   "execution_count": 33,
   "id": "eb7264fa",
   "metadata": {},
   "outputs": [],
   "source": [
    "from langchain_community.vectorstores import FAISS\n",
    "from langchain.retrievers.contextual_compression import ContextualCompressionRetriever\n",
    "from langchain.retrievers.document_compressors import LLMChainExtractor\n",
    "from langchain_core.documents import Document"
   ]
  },
  {
   "cell_type": "code",
   "execution_count": 34,
   "id": "e9c25316",
   "metadata": {},
   "outputs": [],
   "source": [
    "# Recreate the document objects from the previous data\n",
    "docs = [\n",
    "    Document(page_content=(\n",
    "        \"\"\"The Grand Canyon is one of the most visited natural wonders in the world.\n",
    "        Photosynthesis is the process by which green plants convert sunlight into energy.\n",
    "        Millions of tourists travel to see it every year. The rocks date back millions of years.\"\"\"\n",
    "    ), metadata={\"source\": \"Doc1\"}),\n",
    "\n",
    "    Document(page_content=(\n",
    "        \"\"\"In medieval Europe, castles were built primarily for defense.\n",
    "        The chlorophyll in plant cells captures sunlight during photosynthesis.\n",
    "        Knights wore armor made of metal. Siege weapons were often used to breach castle walls.\"\"\"\n",
    "    ), metadata={\"source\": \"Doc2\"}),\n",
    "\n",
    "    Document(page_content=(\n",
    "        \"\"\"Basketball was invented by Dr. James Naismith in the late 19th century.\n",
    "        It was originally played with a soccer ball and peach baskets. NBA is now a global league.\"\"\"\n",
    "    ), metadata={\"source\": \"Doc3\"}),\n",
    "\n",
    "    Document(page_content=(\n",
    "        \"\"\"The history of cinema began in the late 1800s. Silent films were the earliest form.\n",
    "        Thomas Edison was among the pioneers. Photosynthesis does not occur in animal cells.\n",
    "        Modern filmmaking involves complex CGI and sound design.\"\"\"\n",
    "    ), metadata={\"source\": \"Doc4\"})\n",
    "]"
   ]
  },
  {
   "cell_type": "code",
   "execution_count": 35,
   "id": "4b3c4273",
   "metadata": {},
   "outputs": [],
   "source": [
    "# Create a FAISS vector store from the documents\n",
    "embeddings = HuggingFaceEmbeddings(model_name=\"sentence-transformers/all-MiniLM-L6-v2\")\n",
    "vectorstore = FAISS.from_documents(docs, embedding_model)"
   ]
  },
  {
   "cell_type": "code",
   "execution_count": 36,
   "id": "c761481e",
   "metadata": {},
   "outputs": [],
   "source": [
    "base_retriever = vectorstore.as_retriever(search_kwargs={\"k\": 5})"
   ]
  },
  {
   "cell_type": "code",
   "execution_count": 37,
   "id": "aa1271d4",
   "metadata": {},
   "outputs": [],
   "source": [
    "# Set up the compressor using an LLM\n",
    "llm = ChatGroq(model=\"qwen/qwen3-32b\")\n",
    "compressor = LLMChainExtractor.from_llm(llm)"
   ]
  },
  {
   "cell_type": "code",
   "execution_count": 38,
   "id": "4c727737",
   "metadata": {},
   "outputs": [],
   "source": [
    "# Create the contextual compression retriever\n",
    "compression_retriever = ContextualCompressionRetriever(\n",
    "    base_retriever=base_retriever,\n",
    "    base_compressor=compressor\n",
    ")"
   ]
  },
  {
   "cell_type": "code",
   "execution_count": 39,
   "id": "f7e24d4f",
   "metadata": {},
   "outputs": [],
   "source": [
    "# Query the retriever\n",
    "query = \"What is photosynthesis?\"\n",
    "compressed_results = compression_retriever.invoke(query)"
   ]
  },
  {
   "cell_type": "code",
   "execution_count": 40,
   "id": "b89ffea0",
   "metadata": {},
   "outputs": [
    {
     "name": "stdout",
     "output_type": "stream",
     "text": [
      "\n",
      "--- Result 1 ---\n",
      "<think>\n",
      "Okay, let's see. The user wants me to extract parts of the context that answer the question \"What is photosynthesis?\" without editing them. The context given has three sentences.\n",
      "\n",
      "First, the Grand Canyon is mentioned, which isn't related. Then the second sentence says, \"Photosynthesis is the process by which green plants convert sunlight into energy.\" That directly answers the question. The third part talks about tourists and rocks, which are irrelevant here. So I just need to take the second sentence exactly as it is. I should check if any other parts are relevant, but they don't seem to be. The answer is straightforward.\n",
      "</think>\n",
      "\n",
      "Photosynthesis is the process by which green plants convert sunlight into energy.\n",
      "\n",
      "--- Result 2 ---\n",
      "<think>\n",
      "Okay, let's see. The question is asking about photosynthesis. The context has a few sentences. Let me go through each one.\n",
      "\n",
      "First sentence: \"In medieval Europe, castles were built primarily for defense.\" That's about castles and defense, not photosynthesis. Doesn't seem relevant.\n",
      "\n",
      "Second sentence: \"The chlorophyll in plant cells captures sunlight during photosynthesis.\" Oh, here it mentions photosynthesis directly. Chlorophyll and sunlight are part of the process, so this is definitely relevant.\n",
      "\n",
      "Third sentence: \"Knights wore armor made of metal.\" Back to medieval stuff, not related to photosynthesis.\n",
      "\n",
      "Fourth sentence: \"Siege weapons were often used to breach castle walls.\" Again, medieval warfare, not relevant.\n",
      "\n",
      "So the only relevant part is the second sentence. I need to extract that exactly as it is without any changes. Make sure there's no other parts mixed in. Yep, that's the only one.\n",
      "</think>\n",
      "\n",
      "The chlorophyll in plant cells captures sunlight during photosynthesis.\n",
      "\n",
      "--- Result 3 ---\n",
      "<think>\n",
      "Okay, let's see. The user asked, \"What is photosynthesis?\" and provided a context. My job is to extract any part of the context that's relevant to answer the question. The context mentions \"Photosynthesis does not occur in animal cells.\" Hmm, does that help answer what photosynthesis is? Well, the question is asking for a definition or explanation of photosynthesis. The context statement tells us where it doesn't occur, which might be a clue that it happens in plant cells or something else. However, the context doesn't actually explain what photosynthesis is. It just gives a negative statement about animal cells. Since the question is asking for the definition or explanation, the provided context doesn't have the necessary information. So, there's no relevant part here to extract. I should return NO_OUTPUT.\n",
      "</think>\n",
      "\n",
      "Photosynthesis does not occur in animal cells.  \n",
      "NO_OUTPUT\n",
      "\n",
      "--- Result 4 ---\n",
      "<think>\n",
      "Okay, let's see. The user is asking about photosynthesis, but the provided context is about basketball. The context talks about Dr. James Naismith inventing basketball in the late 1800s, using a soccer ball and peach baskets, and mentions the NBA being a global league now.\n",
      "\n",
      "Hmm, photosynthesis is the process plants use to convert sunlight into energy. But none of the information in the context relates to that. The context is entirely about basketball history. So there's no overlap here. The user probably provided the wrong context by mistake. Since there's nothing in the context about photosynthesis, I should return NO_OUTPUT as instructed.\n",
      "</think>\n",
      "\n",
      "NO_OUTPUT\n"
     ]
    }
   ],
   "source": [
    "for i, doc in enumerate(compressed_results):\n",
    "    print(f\"\\n--- Result {i+1} ---\")\n",
    "    print(doc.page_content)\n"
   ]
  }
 ],
 "metadata": {
  "kernelspec": {
   "display_name": "myenv (3.11.9)",
   "language": "python",
   "name": "python3"
  },
  "language_info": {
   "codemirror_mode": {
    "name": "ipython",
    "version": 3
   },
   "file_extension": ".py",
   "mimetype": "text/x-python",
   "name": "python",
   "nbconvert_exporter": "python",
   "pygments_lexer": "ipython3",
   "version": "3.11.9"
  }
 },
 "nbformat": 4,
 "nbformat_minor": 5
}
